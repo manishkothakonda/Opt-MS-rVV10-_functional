{
 "cells": [
  {
   "cell_type": "markdown",
   "metadata": {},
   "source": [
    "CO/Ni111"
   ]
  },
  {
   "cell_type": "code",
   "execution_count": 2,
   "metadata": {},
   "outputs": [],
   "source": [
    "from ase.build import fcc111\n",
    "from ase.io import write,read\n",
    "from ase.build import surface\n",
    "from ase.visualize import view\n",
    "from ase.constraints import FixAtoms\n",
    "from ase.build import add_adsorbate\n",
    "from ase.build import molecule, rotate\n",
    "\n",
    "\n",
    "mol=molecule('CO')\n",
    "\n",
    "Ni=open('./relax/Ni/CONTCAR', 'r')\n",
    "lines=Ni.readlines()\n",
    "q=lines[2].strip()\n",
    "bits=list(filter(None, q.split(' ')))\n",
    "q=float(bits[0])\n",
    "\n",
    "slab =fcc111('Ni', size =(2, 2, 4), a=q,  vacuum=9)\n",
    "add_adsorbate(slab, mol, 2.6, 'fcc')\n",
    "\n",
    "constraint = FixAtoms(mask=slab.positions[:,2] < 12.0)\n",
    "slab.set_constraint(constraint)\n",
    "slab.write('POSCAR_1',vasp5=True)  #names need to be changed accordingly\n"
   ]
  },
  {
   "cell_type": "markdown",
   "metadata": {},
   "source": [
    "CO/Pt111"
   ]
  },
  {
   "cell_type": "code",
   "execution_count": 3,
   "metadata": {},
   "outputs": [],
   "source": [
    "from ase.build import fcc111\n",
    "from ase.io import write,read\n",
    "from ase.build import surface\n",
    "from ase.visualize import view\n",
    "from ase.constraints import FixAtoms\n",
    "from ase.build import add_adsorbate\n",
    "from ase.build import molecule, rotate\n",
    "\n",
    "mol=molecule('CO')\n",
    "\n",
    "Ni=open('./relax/Pt/CONTCAR', 'r')\n",
    "lines=Ni.readlines()\n",
    "q=lines[2].strip()\n",
    "bits=list(filter(None, q.split(' ')))\n",
    "q=float(bits[0])\n",
    "\n",
    "slab =fcc111('Pt', size =(2, 2, 4), a=q,  vacuum=9)\n",
    "add_adsorbate(slab, mol, 3.3, 'ontop')\n",
    "\n",
    "constraint = FixAtoms(mask=slab.positions[:,2] < 12.0)\n",
    "slab.set_constraint(constraint)\n",
    "from ase.io import write\n",
    "slab.write('POSCAR_2',vasp5=True)  #names need to be changed accordingly\n"
   ]
  },
  {
   "cell_type": "markdown",
   "metadata": {},
   "source": [
    "CO/Pd111"
   ]
  },
  {
   "cell_type": "code",
   "execution_count": 4,
   "metadata": {},
   "outputs": [],
   "source": [
    "from ase.build import fcc111\n",
    "from ase.io import write,read\n",
    "from ase.build import surface\n",
    "from ase.visualize import view\n",
    "from ase.constraints import FixAtoms\n",
    "from ase.build import add_adsorbate\n",
    "from ase.build import molecule, rotate\n",
    "\n",
    "mol=molecule('CO')\n",
    "\n",
    "Ni=open('./relax/Pd/CONTCAR', 'r')\n",
    "lines=Ni.readlines()\n",
    "q=lines[2].strip()\n",
    "bits=list(filter(None, q.split(' ')))\n",
    "q=float(bits[0])\n",
    "\n",
    "slab =fcc111('Pd', size =(2, 2, 4), a=q,  vacuum=9)\n",
    "add_adsorbate(slab, mol, 2.6, 'fcc')\n",
    "\n",
    "constraint = FixAtoms(mask=slab.positions[:,2] < 12.0)\n",
    "slab.set_constraint(constraint)\n",
    "slab.write('POSCAR_3',vasp5=True)  #names need to be changed accordingly\n",
    "#"
   ]
  },
  {
   "cell_type": "markdown",
   "metadata": {},
   "source": [
    "CO/Pd100"
   ]
  },
  {
   "cell_type": "code",
   "execution_count": 5,
   "metadata": {},
   "outputs": [],
   "source": [
    "from ase.build import fcc100\n",
    "from ase.io import write,read\n",
    "from ase.build import surface\n",
    "from ase.visualize import view\n",
    "from ase.constraints import FixAtoms\n",
    "from ase.build import add_adsorbate\n",
    "from ase.build import molecule, rotate\n",
    "\n",
    "mol=molecule('CO')\n",
    "\n",
    "Ni=open('./relax/Pd/CONTCAR', 'r')\n",
    "lines=Ni.readlines()\n",
    "q=lines[2].strip()\n",
    "bits=list(filter(None, q.split(' ')))\n",
    "q=float(bits[0])\n",
    "\n",
    "slab =fcc100('Pd', size =(2, 2, 4), a=q,  vacuum=9)\n",
    "add_adsorbate(slab, mol, 2.6, 'bridge')\n",
    "\n",
    "constraint = FixAtoms(mask=slab.positions[:,2] < 12.0)\n",
    "slab.set_constraint(constraint)\n",
    "slab.write('POSCAR_4',vasp5=True)  #names need to be changed accordingly\n",
    "#"
   ]
  },
  {
   "cell_type": "markdown",
   "metadata": {},
   "source": [
    "CO/Rh111"
   ]
  },
  {
   "cell_type": "code",
   "execution_count": 6,
   "metadata": {},
   "outputs": [],
   "source": [
    "from ase.build import fcc111\n",
    "from ase.io import write,read\n",
    "from ase.build import surface\n",
    "from ase.visualize import view\n",
    "from ase.constraints import FixAtoms\n",
    "from ase.build import add_adsorbate\n",
    "from ase.build import molecule, rotate\n",
    "\n",
    "mol=molecule('CO')\n",
    "\n",
    "Ni=open('./relax/Rh/CONTCAR', 'r')\n",
    "lines=Ni.readlines()\n",
    "q=lines[2].strip()\n",
    "bits=list(filter(None, q.split(' ')))\n",
    "q=float(bits[0])\n",
    "\n",
    "slab =fcc111('Rh', size =(2, 2, 4), a=q,  vacuum=9)\n",
    "add_adsorbate(slab, mol, 3.3, 'ontop')\n",
    "\n",
    "constraint = FixAtoms(mask=slab.positions[:,2] < 12.0)\n",
    "slab.set_constraint(constraint)\n",
    "slab.write('POSCAR_5',vasp5=True)  #names need to be changed accordingly\n",
    "#"
   ]
  },
  {
   "cell_type": "markdown",
   "metadata": {},
   "source": [
    "CO/Ir111"
   ]
  },
  {
   "cell_type": "code",
   "execution_count": 7,
   "metadata": {},
   "outputs": [],
   "source": [
    "from ase.build import fcc111\n",
    "from ase.io import write,read\n",
    "from ase.build import surface\n",
    "from ase.visualize import view\n",
    "from ase.constraints import FixAtoms\n",
    "from ase.build import add_adsorbate\n",
    "from ase.build import molecule, rotate\n",
    "\n",
    "mol=molecule('CO')\n",
    "\n",
    "Ni=open('./relax/Ir/CONTCAR', 'r')\n",
    "lines=Ni.readlines()\n",
    "q=lines[2].strip()\n",
    "bits=list(filter(None, q.split(' ')))\n",
    "q=float(bits[0])\n",
    "\n",
    "slab =fcc111('Ir', size =(2, 2, 4), a=q,  vacuum=9)\n",
    "add_adsorbate(slab, mol, 3.3, 'ontop')\n",
    "\n",
    "constraint = FixAtoms(mask=slab.positions[:,2] < 12.0)\n",
    "slab.set_constraint(constraint)\n",
    "slab.write('POSCAR_6',vasp5=True)  #names need to be changed accordingly\n",
    "#"
   ]
  },
  {
   "cell_type": "markdown",
   "metadata": {},
   "source": [
    "CO/Cu111"
   ]
  },
  {
   "cell_type": "code",
   "execution_count": 8,
   "metadata": {},
   "outputs": [],
   "source": [
    "from ase.build import fcc111\n",
    "from ase.io import write,read\n",
    "from ase.build import surface\n",
    "from ase.visualize import view\n",
    "from ase.constraints import FixAtoms\n",
    "from ase.build import add_adsorbate\n",
    "from ase.build import molecule, rotate\n",
    "\n",
    "mol=molecule('CO')\n",
    "\n",
    "Ni=open('./relax/Cu/CONTCAR', 'r')\n",
    "lines=Ni.readlines()\n",
    "q=lines[2].strip()\n",
    "bits=list(filter(None, q.split(' ')))\n",
    "q=float(bits[0])\n",
    "\n",
    "slab =fcc111('Cu', size =(2, 2, 4), a=q,  vacuum=9)\n",
    "add_adsorbate(slab, mol, 3.3, 'ontop')\n",
    "\n",
    "constraint = FixAtoms(mask=slab.positions[:,2] < 12.0)\n",
    "slab.set_constraint(constraint)\n",
    "slab.write('POSCAR_7',vasp5=True)  #names need to be changed accordingly\n",
    "#"
   ]
  },
  {
   "cell_type": "markdown",
   "metadata": {},
   "source": [
    "CO/Ru0001"
   ]
  },
  {
   "cell_type": "code",
   "execution_count": 9,
   "metadata": {},
   "outputs": [],
   "source": [
    "from ase.build import hcp0001\n",
    "from ase.io import write,read\n",
    "from ase.build import surface\n",
    "from ase.visualize import view\n",
    "from ase.constraints import FixAtoms\n",
    "from ase.build import add_adsorbate\n",
    "from ase.build import molecule, rotate\n",
    "\n",
    "mol=molecule('CO')\n",
    "\n",
    "Ni=open('./relax/Ru/CONTCAR', 'r')\n",
    "lines=Ni.readlines()\n",
    "q=lines[2].strip()\n",
    "bits_1=list(filter(None, q.split(' ')))\n",
    "q_1=float(bits_1[0])\n",
    "\n",
    "r=lines[4].strip()\n",
    "bits_2=list(filter(None, r.split(' ')))\n",
    "r_1=float(bits_2[2])\n",
    "\n",
    "slab =hcp0001('Ru', size =(2, 2, 4), a=q_1, c=r_1,  vacuum=9)\n",
    "add_adsorbate(slab, mol, 3.3, 'ontop')\n",
    "\n",
    "constraint = FixAtoms(mask=slab.positions[:,2] < 12.0)\n",
    "slab.set_constraint(constraint)\n",
    "slab.write('POSCAR_8',vasp5=True)  #names need to be changed accordingly\n",
    "#"
   ]
  },
  {
   "cell_type": "markdown",
   "metadata": {},
   "source": [
    "CO/Co0001"
   ]
  },
  {
   "cell_type": "code",
   "execution_count": 10,
   "metadata": {},
   "outputs": [],
   "source": [
    "from ase.build import hcp0001\n",
    "from ase.io import write,read\n",
    "from ase.build import surface\n",
    "from ase.visualize import view\n",
    "from ase.constraints import FixAtoms\n",
    "from ase.build import add_adsorbate\n",
    "from ase.build import molecule, rotate\n",
    "\n",
    "mol=molecule('CO')\n",
    "\n",
    "Ni=open('./relax/Co/CONTCAR', 'r')\n",
    "lines=Ni.readlines()\n",
    "q=lines[2].strip()\n",
    "bits_1=list(filter(None, q.split(' ')))\n",
    "q_1=float(bits_1[0])\n",
    "\n",
    "r=lines[4].strip()\n",
    "bits_2=list(filter(None, r.split(' ')))\n",
    "r_1=float(bits_2[2])\n",
    "\n",
    "slab =hcp0001('Co', size =(2, 2, 4), a=q_1, c=r_1,  vacuum=9)\n",
    "add_adsorbate(slab, mol, 3.3, 'ontop')\n",
    "\n",
    "constraint = FixAtoms(mask=slab.positions[:,2] < 12.0)\n",
    "slab.set_constraint(constraint)\n",
    "slab.write('POSCAR_9',vasp5=True)  #names need to be changed accordingly\n",
    "#"
   ]
  },
  {
   "cell_type": "markdown",
   "metadata": {},
   "source": [
    "N/Ni100"
   ]
  },
  {
   "cell_type": "code",
   "execution_count": 11,
   "metadata": {},
   "outputs": [],
   "source": [
    "from ase.build import fcc100\n",
    "from ase.io import write,read\n",
    "from ase.build import surface\n",
    "from ase.visualize import view\n",
    "from ase.constraints import FixAtoms\n",
    "from ase.build import add_adsorbate\n",
    "from ase.build import molecule, rotate\n",
    "from ase import Atoms\n",
    "\n",
    "mol=Atoms('N')\n",
    "\n",
    "Ni=open('./relax/Ni/CONTCAR', 'r')\n",
    "lines=Ni.readlines()\n",
    "q=lines[2].strip()\n",
    "bits=list(filter(None, q.split(' ')))\n",
    "q=float(bits[0])\n",
    "\n",
    "slab =fcc100('Ni', size =(2, 2, 4), a=q,  vacuum=9)\n",
    "add_adsorbate(slab, mol, 1.8, 'hollow')\n",
    "\n",
    "constraint = FixAtoms(mask=slab.positions[:,2] < 12.0)\n",
    "slab.set_constraint(constraint)\n",
    "slab.write('POSCAR_10',vasp5=True)  #names need to be changed accordingly\n",
    "#"
   ]
  },
  {
   "cell_type": "markdown",
   "metadata": {},
   "source": [
    "O/Ni100"
   ]
  },
  {
   "cell_type": "code",
   "execution_count": 12,
   "metadata": {},
   "outputs": [],
   "source": [
    "from ase.build import fcc100\n",
    "from ase.io import write,read\n",
    "from ase.build import surface\n",
    "from ase.visualize import view\n",
    "from ase.constraints import FixAtoms\n",
    "from ase.build import add_adsorbate\n",
    "from ase.build import molecule, rotate\n",
    "from ase import Atoms\n",
    "\n",
    "mol=Atoms('O')\n",
    "\n",
    "Ni=open('./relax/Ni/CONTCAR', 'r')\n",
    "lines=Ni.readlines()\n",
    "q=lines[2].strip()\n",
    "bits=list(filter(None, q.split(' ')))\n",
    "q=float(bits[0])\n",
    "\n",
    "slab =fcc100('Ni', size =(2, 2, 4), a=q,  vacuum=9)\n",
    "add_adsorbate(slab, mol, 1.8, 'hollow')\n",
    "\n",
    "constraint = FixAtoms(mask=slab.positions[:,2] < 12.0)\n",
    "slab.set_constraint(constraint)\n",
    "slab.write('POSCAR_11',vasp5=True)  #names need to be changed accordingly\n",
    "#"
   ]
  },
  {
   "cell_type": "markdown",
   "metadata": {},
   "source": [
    "NO/Pt111"
   ]
  },
  {
   "cell_type": "code",
   "execution_count": 13,
   "metadata": {},
   "outputs": [],
   "source": [
    "from ase.build import fcc111\n",
    "from ase.io import write,read\n",
    "from ase.build import surface\n",
    "from ase.visualize import view\n",
    "from ase.constraints import FixAtoms\n",
    "from ase.build import add_adsorbate\n",
    "from ase.build import molecule, rotate\n",
    "\n",
    "mol=molecule('NO')\n",
    "\n",
    "Ni=open('./relax/Pt/CONTCAR', 'r')\n",
    "lines=Ni.readlines()\n",
    "q=lines[2].strip()\n",
    "bits=list(filter(None, q.split(' ')))\n",
    "q=float(bits[0])\n",
    "\n",
    "slab =fcc111('Pt', size =(2, 2, 4), a=q,  vacuum=9)\n",
    "add_adsorbate(slab, mol, 2.2, 'fcc')\n",
    "\n",
    "constraint = FixAtoms(mask=slab.positions[:,2] < 12.0)\n",
    "slab.set_constraint(constraint)\n",
    "slab.write('POSCAR_12',vasp5=True)  #names need to be changed accordingly\n",
    "#"
   ]
  },
  {
   "cell_type": "markdown",
   "metadata": {},
   "source": [
    "NO/Pd111"
   ]
  },
  {
   "cell_type": "code",
   "execution_count": 14,
   "metadata": {},
   "outputs": [],
   "source": [
    "from ase.build import fcc111\n",
    "from ase.io import write,read\n",
    "from ase.build import surface\n",
    "from ase.visualize import view\n",
    "from ase.constraints import FixAtoms\n",
    "from ase.build import add_adsorbate\n",
    "from ase.build import molecule, rotate\n",
    "\n",
    "mol=molecule('NO')\n",
    "\n",
    "Ni=open('./relax/Pd/CONTCAR', 'r')\n",
    "lines=Ni.readlines()\n",
    "q=lines[2].strip()\n",
    "bits=list(filter(None, q.split(' ')))\n",
    "q=float(bits[0])\n",
    "\n",
    "slab =fcc111('Pd', size =(2, 2, 4), a=q,  vacuum=9)\n",
    "add_adsorbate(slab, mol, 2.3, 'fcc')\n",
    "\n",
    "constraint = FixAtoms(mask=slab.positions[:,2] < 12.0)\n",
    "slab.set_constraint(constraint)\n",
    "slab.write('POSCAR_13',vasp5=True)  #names need to be changed accordingly\n",
    "#"
   ]
  },
  {
   "cell_type": "markdown",
   "metadata": {},
   "source": [
    "NO/Pd100"
   ]
  },
  {
   "cell_type": "code",
   "execution_count": 15,
   "metadata": {},
   "outputs": [],
   "source": [
    "from ase.build import fcc100\n",
    "from ase.io import write,read\n",
    "from ase.build import surface\n",
    "from ase.visualize import view\n",
    "from ase.constraints import FixAtoms\n",
    "from ase.build import add_adsorbate\n",
    "from ase.build import molecule, rotate\n",
    "\n",
    "mol=molecule('NO')\n",
    "\n",
    "Ni=open('./relax/Pd/CONTCAR', 'r')\n",
    "lines=Ni.readlines()\n",
    "q=lines[2].strip()\n",
    "bits=list(filter(None, q.split(' ')))\n",
    "q=float(bits[0])\n",
    "\n",
    "slab =fcc100('Pd', size =(2, 2, 4), a=q,  vacuum=9)\n",
    "add_adsorbate(slab, mol, 2.1, 'hollow')\n",
    "\n",
    "constraint = FixAtoms(mask=slab.positions[:,2] < 12.0)\n",
    "slab.set_constraint(constraint)\n",
    "slab.write('POSCAR_14',vasp5=True)  #names need to be changed accordingly\n",
    "#"
   ]
  },
  {
   "cell_type": "markdown",
   "metadata": {},
   "source": [
    "O/Ni111"
   ]
  },
  {
   "cell_type": "code",
   "execution_count": 16,
   "metadata": {},
   "outputs": [],
   "source": [
    "from ase.build import fcc111\n",
    "from ase.io import write,read\n",
    "from ase.build import surface\n",
    "from ase.visualize import view\n",
    "from ase.constraints import FixAtoms\n",
    "from ase.build import add_adsorbate\n",
    "from ase.build import molecule, rotate\n",
    "\n",
    "mol=molecule('O')\n",
    "\n",
    "Ni=open('./relax/Ni/CONTCAR', 'r')\n",
    "lines=Ni.readlines()\n",
    "q=lines[2].strip()\n",
    "bits=list(filter(None, q.split(' ')))\n",
    "q=float(bits[0])\n",
    "\n",
    "slab =fcc111('Ni', size =(2, 2, 4), a=q,  vacuum=9)\n",
    "add_adsorbate(slab, mol, 2.1, 'fcc')\n",
    "\n",
    "constraint = FixAtoms(mask=slab.positions[:,2] < 12.0)\n",
    "slab.set_constraint(constraint)\n",
    "slab.write('POSCAR_15',vasp5=True)  #names need to be changed accordingly\n",
    "#"
   ]
  },
  {
   "cell_type": "markdown",
   "metadata": {},
   "source": [
    "O/Pt111"
   ]
  },
  {
   "cell_type": "code",
   "execution_count": 17,
   "metadata": {},
   "outputs": [],
   "source": [
    "from ase.build import fcc111\n",
    "from ase.io import write,read\n",
    "from ase.build import surface\n",
    "from ase.visualize import view\n",
    "from ase.constraints import FixAtoms\n",
    "from ase.build import add_adsorbate\n",
    "from ase.build import molecule, rotate\n",
    "\n",
    "mol=molecule('O')\n",
    "\n",
    "Ni=open('./relax/Pt/CONTCAR', 'r')\n",
    "lines=Ni.readlines()\n",
    "q=lines[2].strip()\n",
    "bits=list(filter(None, q.split(' ')))\n",
    "q=float(bits[0])\n",
    "\n",
    "slab =fcc111('Pt', size =(3, 3, 4), a=q,  vacuum=9)\n",
    "add_adsorbate(slab, mol, 2.0, 'fcc')\n",
    "\n",
    "constraint = FixAtoms(mask=slab.positions[:,2] < 12.0)\n",
    "slab.set_constraint(constraint)\n",
    "slab.write('POSCAR_16',vasp5=True)  #names need to be changed accordingly\n",
    "#"
   ]
  },
  {
   "cell_type": "markdown",
   "metadata": {},
   "source": [
    "O/Rh100"
   ]
  },
  {
   "cell_type": "code",
   "execution_count": 18,
   "metadata": {},
   "outputs": [],
   "source": [
    "from ase.build import fcc100\n",
    "from ase.io import write,read\n",
    "from ase.build import surface\n",
    "from ase.visualize import view\n",
    "from ase.constraints import FixAtoms\n",
    "from ase.build import add_adsorbate\n",
    "from ase.build import molecule, rotate\n",
    "\n",
    "mol=molecule('O')\n",
    "\n",
    "Ni=open('./relax/Rh/CONTCAR', 'r')\n",
    "lines=Ni.readlines()\n",
    "q=lines[2].strip()\n",
    "bits=list(filter(None, q.split(' ')))\n",
    "q=float(bits[0])\n",
    "\n",
    "slab =fcc100('Rh', size =(2, 2, 4), a=q,  vacuum=9)\n",
    "add_adsorbate(slab, mol, 2.0, 'hollow')\n",
    "\n",
    "constraint = FixAtoms(mask=slab.positions[:,2] < 12.0)\n",
    "slab.set_constraint(constraint)\n",
    "slab.write('POSCAR_17',vasp5=True)  #names need to be changed accordingly\n",
    "#"
   ]
  },
  {
   "cell_type": "markdown",
   "metadata": {},
   "source": [
    "H/Pt111"
   ]
  },
  {
   "cell_type": "code",
   "execution_count": 19,
   "metadata": {},
   "outputs": [],
   "source": [
    "from ase.build import fcc111\n",
    "from ase.io import write,read\n",
    "from ase.build import surface\n",
    "from ase.visualize import view\n",
    "from ase.constraints import FixAtoms\n",
    "from ase.build import add_adsorbate\n",
    "from ase.build import molecule, rotate\n",
    "\n",
    "mol=molecule('H')\n",
    "\n",
    "Ni=open('./relax/Pt/CONTCAR', 'r')\n",
    "lines=Ni.readlines()\n",
    "q=lines[2].strip()\n",
    "bits=list(filter(None, q.split(' ')))\n",
    "q=float(bits[0])\n",
    "\n",
    "slab =fcc111('Pt', size =(2, 2, 4), a=q,  vacuum=9)\n",
    "add_adsorbate(slab, mol, 2.1, 'ontop')\n",
    "\n",
    "constraint = FixAtoms(mask=slab.positions[:,2] < 12.0)\n",
    "slab.set_constraint(constraint)\n",
    "slab.write('POSCAR_18',vasp5=True)  #names need to be changed accordingly\n",
    "#"
   ]
  },
  {
   "cell_type": "markdown",
   "metadata": {},
   "source": [
    "H/Ni111"
   ]
  },
  {
   "cell_type": "code",
   "execution_count": 20,
   "metadata": {},
   "outputs": [],
   "source": [
    "from ase.build import fcc111\n",
    "from ase.io import write,read\n",
    "from ase.build import surface\n",
    "from ase.visualize import view\n",
    "from ase.constraints import FixAtoms\n",
    "from ase.build import add_adsorbate\n",
    "from ase.build import molecule, rotate\n",
    "\n",
    "mol=molecule('H')\n",
    "\n",
    "Ni=open('./relax/Ni/CONTCAR', 'r')\n",
    "lines=Ni.readlines()\n",
    "q=lines[2].strip()\n",
    "bits=list(filter(None, q.split(' ')))\n",
    "q=float(bits[0])\n",
    "\n",
    "slab =fcc111('Ni', size =(2, 2, 4), a=q,  vacuum=9)\n",
    "add_adsorbate(slab, mol, 1.8, 'fcc')\n",
    "\n",
    "constraint = FixAtoms(mask=slab.positions[:,2] < 12.0)\n",
    "slab.set_constraint(constraint)\n",
    "slab.write('POSCAR_19',vasp5=True)  #names need to be changed accordingly\n",
    "#"
   ]
  },
  {
   "cell_type": "markdown",
   "metadata": {},
   "source": [
    "H/Ni100"
   ]
  },
  {
   "cell_type": "code",
   "execution_count": 21,
   "metadata": {},
   "outputs": [],
   "source": [
    "from ase.build import fcc100\n",
    "from ase.io import write,read\n",
    "from ase.build import surface\n",
    "from ase.visualize import view\n",
    "from ase.constraints import FixAtoms\n",
    "from ase.build import add_adsorbate\n",
    "from ase.build import molecule, rotate\n",
    "from ase import Atoms\n",
    "\n",
    "mol=Atoms('H')\n",
    "\n",
    "Ni=open('./relax/Ni/CONTCAR', 'r')\n",
    "lines=Ni.readlines()\n",
    "q=lines[2].strip()\n",
    "bits=list(filter(None, q.split(' ')))\n",
    "q=float(bits[0])\n",
    "\n",
    "slab =fcc100('Ni', size =(2, 2, 4), a=q,  vacuum=9)\n",
    "add_adsorbate(slab, mol, 1.8, 'hollow')\n",
    "\n",
    "constraint = FixAtoms(mask=slab.positions[:,2] < 12.0)\n",
    "slab.set_constraint(constraint)\n",
    "slab.write('POSCAR_20',vasp5=True)  #names need to be changed accordingly\n",
    "#"
   ]
  },
  {
   "cell_type": "markdown",
   "metadata": {},
   "source": [
    "H/Rh111"
   ]
  },
  {
   "cell_type": "code",
   "execution_count": 22,
   "metadata": {},
   "outputs": [],
   "source": [
    "from ase.build import fcc111\n",
    "from ase.io import write,read\n",
    "from ase.build import surface\n",
    "from ase.visualize import view\n",
    "from ase.constraints import FixAtoms\n",
    "from ase.build import add_adsorbate\n",
    "from ase.build import molecule, rotate\n",
    "\n",
    "mol=molecule('H')\n",
    "\n",
    "Ni=open('./relax/Rh/CONTCAR', 'r')\n",
    "lines=Ni.readlines()\n",
    "q=lines[2].strip()\n",
    "bits=list(filter(None, q.split(' ')))\n",
    "q=float(bits[0])\n",
    "\n",
    "slab =fcc111('Rh', size =(2, 2, 4), a=q,  vacuum=9)\n",
    "add_adsorbate(slab, mol, 1.8, 'fcc')\n",
    "\n",
    "constraint = FixAtoms(mask=slab.positions[:,2] < 12.0)\n",
    "slab.set_constraint(constraint)\n",
    "slab.write('POSCAR_21',vasp5=True)  #names need to be changed accordingly\n",
    "#"
   ]
  },
  {
   "cell_type": "markdown",
   "metadata": {},
   "source": [
    "H/Pd111"
   ]
  },
  {
   "cell_type": "code",
   "execution_count": 23,
   "metadata": {},
   "outputs": [],
   "source": [
    "from ase.build import fcc111\n",
    "from ase.io import write,read\n",
    "from ase.build import surface\n",
    "from ase.visualize import view\n",
    "from ase.constraints import FixAtoms\n",
    "from ase.build import add_adsorbate\n",
    "from ase.build import molecule, rotate\n",
    "\n",
    "mol=molecule('H')\n",
    "\n",
    "Ni=open('./relax/Pd/CONTCAR', 'r')\n",
    "lines=Ni.readlines()\n",
    "q=lines[2].strip()\n",
    "bits=list(filter(None, q.split(' ')))\n",
    "q=float(bits[0])\n",
    "\n",
    "slab =fcc111('Pd', size =(2, 2, 4), a=q,  vacuum=9)\n",
    "add_adsorbate(slab, mol, 1.8, 'fcc')\n",
    "\n",
    "constraint = FixAtoms(mask=slab.positions[:,2] < 12.0)\n",
    "slab.set_constraint(constraint)\n",
    "slab.write('POSCAR_22',vasp5=True)  #names need to be changed accordingly\n",
    "#"
   ]
  },
  {
   "cell_type": "markdown",
   "metadata": {},
   "source": [
    "I/Pt111"
   ]
  },
  {
   "cell_type": "code",
   "execution_count": 24,
   "metadata": {},
   "outputs": [],
   "source": [
    "from ase.build import fcc111\n",
    "from ase.io import write,read\n",
    "from ase.build import surface\n",
    "from ase.visualize import view\n",
    "from ase.constraints import FixAtoms\n",
    "from ase.build import add_adsorbate\n",
    "from ase.build import molecule, rotate\n",
    "from ase import Atoms\n",
    "\n",
    "mol=Atoms('I')\n",
    "\n",
    "Ni=open('./relax/Pt/CONTCAR', 'r')\n",
    "lines=Ni.readlines()\n",
    "q=lines[2].strip()\n",
    "bits=list(filter(None, q.split(' ')))\n",
    "q=float(bits[0])\n",
    "\n",
    "slab =fcc111('Pt', size =(2, 2, 4), a=q,  vacuum=9)\n",
    "add_adsorbate(slab, mol, 3.3, 'fcc')\n",
    "\n",
    "constraint = FixAtoms(mask=slab.positions[:,2] < 12.0)\n",
    "slab.set_constraint(constraint)\n",
    "slab.write('POSCAR_23',vasp5=True)  #names need to be changed accordingly\n",
    "#"
   ]
  },
  {
   "cell_type": "markdown",
   "metadata": {},
   "source": [
    "CH/Pt111"
   ]
  },
  {
   "cell_type": "code",
   "execution_count": 25,
   "metadata": {},
   "outputs": [],
   "source": [
    "from ase.build import fcc111\n",
    "from ase.io import write,read\n",
    "from ase.build import surface\n",
    "from ase.visualize import view\n",
    "from ase.constraints import FixAtoms\n",
    "from ase.build import add_adsorbate\n",
    "from ase.build import molecule, rotate\n",
    "from ase import Atoms\n",
    "\n",
    "mol=molecule('CH')\n",
    "mol.rotate(180, (1,1,0))\n",
    "Ni=open('./relax/Pt/CONTCAR', 'r')\n",
    "lines=Ni.readlines()\n",
    "q=lines[2].strip()\n",
    "bits=list(filter(None, q.split(' ')))\n",
    "q=float(bits[0])\n",
    "\n",
    "slab =fcc111('Pt', size =(2, 2, 4), a=q,  vacuum=9)\n",
    "add_adsorbate(slab, mol, 2.3, 'fcc')\n",
    "\n",
    "constraint = FixAtoms(mask=slab.positions[:,2] < 12.0)\n",
    "slab.set_constraint(constraint)\n",
    "slab.write('POSCAR_24',vasp5=True)  #names need to be changed accordingly\n",
    "#"
   ]
  },
  {
   "cell_type": "markdown",
   "metadata": {},
   "source": [
    "CH3/Pt111"
   ]
  },
  {
   "cell_type": "code",
   "execution_count": 26,
   "metadata": {},
   "outputs": [],
   "source": [
    "from ase.build import fcc111\n",
    "from ase.io import write,read\n",
    "from ase.build import surface\n",
    "from ase.visualize import view\n",
    "from ase.constraints import FixAtoms\n",
    "from ase.build import add_adsorbate\n",
    "from ase.build import molecule, rotate\n",
    "from ase import Atoms\n",
    "\n",
    "mol=molecule('CH3')\n",
    "mol.rotate(60, (0,0,1))\n",
    "Ni=open('./relax/Pt/CONTCAR', 'r')\n",
    "lines=Ni.readlines()\n",
    "q=lines[2].strip()\n",
    "bits=list(filter(None, q.split(' ')))\n",
    "q=float(bits[0])\n",
    "\n",
    "slab =fcc111('Pt', size =(2, 2, 4), a=q,  vacuum=9)\n",
    "add_adsorbate(slab, mol, 2.3, 'ontop')\n",
    "\n",
    "constraint = FixAtoms(mask=slab.positions[:,2] < 12.0)\n",
    "slab.set_constraint(constraint)\n",
    "slab.write('POSCAR_25',vasp5=True)  #names need to be changed accordingly\n",
    "#"
   ]
  },
  {
   "cell_type": "markdown",
   "metadata": {},
   "source": [
    "NH3/Cu100"
   ]
  },
  {
   "cell_type": "code",
   "execution_count": 27,
   "metadata": {},
   "outputs": [],
   "source": [
    "from ase.build import fcc100\n",
    "from ase.io import write,read\n",
    "from ase.build import surface\n",
    "from ase.visualize import view\n",
    "from ase.constraints import FixAtoms\n",
    "from ase.build import add_adsorbate\n",
    "from ase.build import molecule, rotate\n",
    "from ase import Atoms\n",
    "\n",
    "mol=molecule('NH3')\n",
    "mol.rotate(180, (1,1,0))\n",
    "mol.rotate(30,'z')\n",
    "Ni=open('./relax/Cu/CONTCAR', 'r')\n",
    "lines=Ni.readlines()\n",
    "q=lines[2].strip()\n",
    "bits=list(filter(None, q.split(' ')))\n",
    "q=float(bits[0])\n",
    "\n",
    "slab =fcc100('Cu', size =(2, 2, 4), a=q,  vacuum=9)\n",
    "add_adsorbate(slab, mol, 2.3, 'ontop')\n",
    "\n",
    "constraint = FixAtoms(mask=slab.positions[:,2] < 12.0)\n",
    "slab.set_constraint(constraint)\n",
    "slab.write('POSCAR_26',vasp5=True)  #names need to be changed accordingly\n",
    "#"
   ]
  },
  {
   "cell_type": "markdown",
   "metadata": {},
   "source": [
    "CH3I/Pt111"
   ]
  },
  {
   "cell_type": "code",
   "execution_count": 28,
   "metadata": {},
   "outputs": [],
   "source": [
    "from ase.build import fcc111\n",
    "from ase.io import write,read\n",
    "from ase.build import surface\n",
    "from ase.visualize import view\n",
    "from ase.constraints import FixAtoms\n",
    "from ase.build import add_adsorbate\n",
    "from ase.build import molecule, rotate\n",
    "from ase import Atoms\n",
    "\n",
    "mol_1=Atoms('I')\n",
    "mol_2=molecule('CH3')\n",
    "mol_2.rotate(20,'z')\n",
    "\n",
    "Ni=open('./relax/Pt/CONTCAR', 'r')\n",
    "lines=Ni.readlines()\n",
    "q=lines[2].strip()\n",
    "bits=list(filter(None, q.split(' ')))\n",
    "q=float(bits[0])\n",
    "\n",
    "slab =fcc111('Pt', size =(2, 2, 4), a=q,  vacuum=9)\n",
    "add_adsorbate(slab, mol_1, 2.6, 'fcc')\n",
    "add_adsorbate(slab, mol_2, 4.6, 'fcc')\n",
    "\n",
    "constraint = FixAtoms(mask=slab.positions[:,2] < 12.0)\n",
    "slab.set_constraint(constraint)\n",
    "slab.write('POSCAR_27',vasp5=True)  #names need to be changed accordingly\n",
    "#"
   ]
  },
  {
   "cell_type": "markdown",
   "metadata": {},
   "source": [
    "CH3OH/Pt111"
   ]
  },
  {
   "cell_type": "code",
   "execution_count": 29,
   "metadata": {},
   "outputs": [],
   "source": [
    "from ase.build import fcc111\n",
    "from ase.io import write,read\n",
    "from ase.build import surface\n",
    "from ase.visualize import view\n",
    "from ase.constraints import FixAtoms\n",
    "from ase.build import add_adsorbate\n",
    "from ase.build import molecule, rotate\n",
    "from ase import Atoms\n",
    "\n",
    "mol=molecule('CH3OH')\n",
    "mol.rotate(18,'x')\n",
    "mol.rotate(18,'y')\n",
    "mol.rotate(50,'z')\n",
    "mol.translate([0,0.8,18.2])\n",
    "Ni=open('./relax/Pt/CONTCAR', 'r')\n",
    "lines=Ni.readlines()\n",
    "q=lines[2].strip()\n",
    "bits=list(filter(None, q.split(' ')))\n",
    "q=float(bits[0])\n",
    "\n",
    "slab =fcc111('Pt', size =(2, 2, 4), a=q,  vacuum=9)\n",
    "\n",
    "slab+=mol\n",
    "constraint = FixAtoms(mask=slab.positions[:,2] < 12.0)\n",
    "slab.set_constraint(constraint)\n",
    "slab.write('POSCAR_28',vasp5=True)  #names need to be changed accordingly\n",
    "#"
   ]
  },
  {
   "cell_type": "markdown",
   "metadata": {},
   "source": [
    "CH4/Pt111"
   ]
  },
  {
   "cell_type": "code",
   "execution_count": 30,
   "metadata": {},
   "outputs": [],
   "source": [
    "from ase.build import fcc111\n",
    "from ase.io import write,read\n",
    "from ase.build import surface\n",
    "from ase.visualize import view\n",
    "from ase.constraints import FixAtoms\n",
    "from ase.build import add_adsorbate\n",
    "from ase.build import molecule, rotate\n",
    "from ase import Atoms\n",
    "\n",
    "mol=molecule('CH4')\n",
    "\n",
    "mol.rotate(48,'x')\n",
    "mol.rotate(-38,'y')\n",
    "mol.rotate(-15,'z')\n",
    "mol.translate([1.5,0.8,19.9])\n",
    "Ni=open('./relax/Pt/CONTCAR', 'r')\n",
    "lines=Ni.readlines()\n",
    "q=lines[2].strip()\n",
    "bits=list(filter(None, q.split(' ')))\n",
    "q=float(bits[0])\n",
    "\n",
    "slab =fcc111('Pt', size =(2, 2, 4), a=q,  vacuum=9)\n",
    "slab+=mol\n",
    "\n",
    "\n",
    "constraint = FixAtoms(mask=slab.positions[:,2] < 12.0)\n",
    "slab.set_constraint(constraint)\n",
    "slab.write('POSCAR_29',vasp5=True)  #names need to be changed accordingly\n",
    "#"
   ]
  },
  {
   "cell_type": "markdown",
   "metadata": {},
   "source": [
    "C2H6/Pt111"
   ]
  },
  {
   "cell_type": "code",
   "execution_count": 31,
   "metadata": {},
   "outputs": [],
   "source": [
    "from ase.build import fcc111\n",
    "from ase.io import write,read\n",
    "from ase.build import surface\n",
    "from ase.visualize import view\n",
    "from ase.constraints import FixAtoms\n",
    "from ase.build import add_adsorbate\n",
    "from ase.build import molecule, rotate\n",
    "from ase import Atoms\n",
    "\n",
    "mol=molecule('C2H6')\n",
    "mol.rotate(-90,'x')\n",
    "mol.rotate(120,'z')\n",
    "mol.translate([1.0,0.6,19.0])\n",
    "Ni=open('./relax/Pt/CONTCAR', 'r')\n",
    "lines=Ni.readlines()\n",
    "q=lines[2].strip()\n",
    "bits=list(filter(None, q.split(' ')))\n",
    "q=float(bits[0])\n",
    "\n",
    "slab =fcc111('Pt', size =(3, 3, 4), a=q,  vacuum=9)\n",
    "\n",
    "slab+=mol\n",
    "constraint = FixAtoms(mask=slab.positions[:,2] < 12.0)\n",
    "slab.set_constraint(constraint)\n",
    "slab.write('POSCAR_30',vasp5=True)  #names need to be changed accordingly\n",
    "#"
   ]
  },
  {
   "cell_type": "markdown",
   "metadata": {},
   "source": [
    "C3H8/Pt111"
   ]
  },
  {
   "cell_type": "code",
   "execution_count": 32,
   "metadata": {},
   "outputs": [],
   "source": [
    "from ase.build import fcc111\n",
    "from ase.io import write,read\n",
    "from ase.build import surface\n",
    "from ase.visualize import view\n",
    "from ase.constraints import FixAtoms\n",
    "from ase.build import add_adsorbate\n",
    "from ase.build import molecule, rotate\n",
    "from ase import Atoms\n",
    "\n",
    "mol=molecule('C3H8')\n",
    "mol.rotate(60,'x')\n",
    "mol.rotate(100,'y')\n",
    "mol.rotate(30,'z')\n",
    "mol.translate([1.6,0.6,18.6])\n",
    "Ni=open('./relax/Pt/CONTCAR', 'r')\n",
    "lines=Ni.readlines()\n",
    "q=lines[2].strip()\n",
    "bits=list(filter(None, q.split(' ')))\n",
    "q=float(bits[0])\n",
    "\n",
    "slab =fcc111('Pt', size =(3, 3, 4), a=q,  vacuum=9)\n",
    "\n",
    "slab+=mol\n",
    "constraint = FixAtoms(mask=slab.positions[:,2] < 12.0)\n",
    "slab.set_constraint(constraint)\n",
    "slab.write('POSCAR_31',vasp5=True)  #names need to be changed accordingly\n",
    "#"
   ]
  },
  {
   "cell_type": "markdown",
   "metadata": {},
   "source": [
    "C4H10/Pt111"
   ]
  },
  {
   "cell_type": "code",
   "execution_count": 33,
   "metadata": {},
   "outputs": [],
   "source": [
    "  from ase import Atoms\n",
    "from ase.visualize import view\n",
    "from ase.build import surface\n",
    "\n",
    "mol = Atoms('C4H10', [ (2.526429083 ,4.148929023,0.983615365),\n",
    "(2.524200434,2.620759142,0.983620064),\n",
    "(1.115417254,2.023927481,0.983619124),\n",
    "(1.113194321,0.495759249,0.983615365),\n",
    "(3.54663719,4.557115503,0.983605967),\n",
    "(0.092988293,0.087557378,0.983605967),\n",
    "(2.007984225,4.544153712,1.869611845),\n",
    "(2.007991501,4.544136121,0.097616066),\n",
    "(1.631631384,0.100519718,1.869602447),\n",
    "(1.631624627,0.100536759,0.097624524),\n",
    "(3.074646791,2.246249132,0.104100216),\n",
    "(3.074664462,2.246237039,1.863130044),\n",
    "(0.56496518,2.398430894, 0.104092698),\n",
    "(0.564946989,2.398441888,1.863138502)\n",
    "])\n",
    "mol.rotate(140,'z')\n",
    "mol.rotate(180,'x')\n",
    "mol.translate([3.5,1.0,19.6])\n",
    "\n",
    "Ni=open('./relax/Pt/CONTCAR', 'r')\n",
    "lines=Ni.readlines()\n",
    "q=lines[2].strip()\n",
    "bits=list(filter(None, q.split(' ')))\n",
    "q=float(bits[0])\n",
    "\n",
    "slab =fcc111('Pt', size =(3, 3, 4), a=q,  vacuum=9)\n",
    "slab+=mol\n",
    "constraint = FixAtoms(mask=slab.positions[:,2] < 12.0)\n",
    "slab.set_constraint(constraint)\n",
    "slab.write('POSCAR_32',vasp5=True)  #names need to be changed accordingly\n",
    "#"
   ]
  },
  {
   "cell_type": "markdown",
   "metadata": {},
   "source": [
    "C6H6/Pt111"
   ]
  },
  {
   "cell_type": "code",
   "execution_count": 34,
   "metadata": {},
   "outputs": [],
   "source": [
    "from ase.build import fcc111\n",
    "from ase.io import write,read\n",
    "from ase.build import surface\n",
    "from ase.visualize import view\n",
    "from ase.constraints import FixAtoms\n",
    "from ase.build import add_adsorbate\n",
    "from ase.build import molecule, rotate\n",
    "from ase import Atoms\n",
    "\n",
    "mol=molecule('C6H6')\n",
    "\n",
    "mol.translate([2.8,2.4,18.6])\n",
    "Ni=open('./relax/Pt/CONTCAR', 'r')\n",
    "lines=Ni.readlines()\n",
    "q=lines[2].strip()\n",
    "bits=list(filter(None, q.split(' ')))\n",
    "q=float(bits[0])\n",
    "\n",
    "slab =fcc111('Pt', size =(3, 3, 4), a=q,  vacuum=9)\n",
    "slab+=mol\n",
    "\n",
    "constraint = FixAtoms(mask=slab.positions[:,2] < 12.0)\n",
    "slab.set_constraint(constraint)\n",
    "slab.write('POSCAR_33',vasp5=True)  #names need to be changed accordingly\n",
    "#"
   ]
  },
  {
   "cell_type": "markdown",
   "metadata": {},
   "source": [
    "C6H6/Cu111"
   ]
  },
  {
   "cell_type": "code",
   "execution_count": 35,
   "metadata": {},
   "outputs": [],
   "source": [
    "from ase.build import fcc111\n",
    "from ase.io import write,read\n",
    "from ase.build import surface\n",
    "from ase.visualize import view\n",
    "from ase.constraints import FixAtoms\n",
    "from ase.build import add_adsorbate\n",
    "from ase.build import molecule, rotate\n",
    "from ase import Atoms\n",
    "\n",
    "mol=molecule('C6H6')\n",
    "\n",
    "mol.translate([2.5,2.82,18.6])\n",
    "Ni=open('./relax/Cu/CONTCAR', 'r')\n",
    "lines=Ni.readlines()\n",
    "q=lines[2].strip()\n",
    "bits=list(filter(None, q.split(' ')))\n",
    "q=float(bits[0])\n",
    "\n",
    "slab =fcc111('Cu', size =(3, 3, 4), a=q,  vacuum=9)\n",
    "slab+=mol\n",
    "\n",
    "constraint = FixAtoms(mask=slab.positions[:,2] < 12.0)\n",
    "slab.set_constraint(constraint)\n",
    "slab.write('POSCAR_34',vasp5=True)  #names need to be changed accordingly\n",
    "#"
   ]
  },
  {
   "cell_type": "markdown",
   "metadata": {},
   "source": [
    "C6H6/Ag111"
   ]
  },
  {
   "cell_type": "code",
   "execution_count": 36,
   "metadata": {},
   "outputs": [],
   "source": [
    "from ase.build import fcc111\n",
    "from ase.io import write,read\n",
    "from ase.build import surface\n",
    "from ase.visualize import view\n",
    "from ase.constraints import FixAtoms\n",
    "from ase.build import add_adsorbate\n",
    "from ase.build import molecule, rotate\n",
    "from ase import Atoms\n",
    "\n",
    "mol=molecule('C6H6')\n",
    "\n",
    "mol.translate([2.9,3.32,18.6])\n",
    "Ni=open('./relax/Ag/CONTCAR', 'r')\n",
    "lines=Ni.readlines()\n",
    "q=lines[2].strip()\n",
    "bits=list(filter(None, q.split(' ')))\n",
    "q=float(bits[0])\n",
    "\n",
    "slab =fcc111('Ag', size =(3, 3, 4), a=q,  vacuum=9)\n",
    "slab+=mol\n",
    "\n",
    "constraint = FixAtoms(mask=slab.positions[:,2] < 12.0)\n",
    "slab.set_constraint(constraint)\n",
    "slab.write('POSCAR_35',vasp5=True)  #names need to be changed accordingly\n",
    "#"
   ]
  },
  {
   "cell_type": "markdown",
   "metadata": {},
   "source": [
    "C6H6/Au111"
   ]
  },
  {
   "cell_type": "code",
   "execution_count": 37,
   "metadata": {},
   "outputs": [],
   "source": [
    "from ase.build import fcc111\n",
    "from ase.io import write,read\n",
    "from ase.build import surface\n",
    "from ase.visualize import view\n",
    "from ase.constraints import FixAtoms\n",
    "from ase.build import add_adsorbate\n",
    "from ase.build import molecule, rotate\n",
    "from ase import Atoms\n",
    "\n",
    "mol=molecule('C6H6')\n",
    "\n",
    "mol.translate([2.9,3.32,18.6])\n",
    "Ni=open('./relax/Au/CONTCAR', 'r')\n",
    "lines=Ni.readlines()\n",
    "q=lines[2].strip()\n",
    "bits=list(filter(None, q.split(' ')))\n",
    "q=float(bits[0])\n",
    "\n",
    "slab =fcc111('Au', size =(3, 3, 4), a=q,  vacuum=9)\n",
    "slab+=mol\n",
    "\n",
    "constraint = FixAtoms(mask=slab.positions[:,2] < 12.0)\n",
    "slab.set_constraint(constraint)\n",
    "slab.write('POSCAR_36',vasp5=True)  #names need to be changed accordingly\n",
    "#"
   ]
  },
  {
   "cell_type": "markdown",
   "metadata": {},
   "source": [
    "C6H10/Pt111"
   ]
  },
  {
   "cell_type": "code",
   "execution_count": 38,
   "metadata": {},
   "outputs": [],
   "source": [
    "from ase import Atoms\n",
    "from ase.visualize import view\n",
    "from ase.build import surface\n",
    "\n",
    "mol = Atoms('C6H10', [ (2.254779059,1.866137212,9.964580314),\n",
    "(5.073144021,6.854394784,9.97211532),\n",
    "(9.451895317,1.91007278,9.12027007),\n",
    "(1.887859775,1.402191412,11.39397025),\n",
    "(8.681578686,0.619465165,9.115002825),\n",
    "(1.068489423,0.085937767,11.3970757),\n",
    "(6.034776359,6.526041965,9.549014463),\n",
    "(2.986651668,1.16733594,9.529217865),\n",
    "(2.741068737,2.850385221,9.988816483),\n",
    "(4.424906264,5.968191409,9.997379406),\n",
    "(8.808343986,2.762932078,9.383688218),\n",
    "(1.318633681,2.202686192,11.89086343),\n",
    "(2.818254006,1.28249538,11.96821342),\n",
    "(7.622567057,0.783197171,9.364118563),\n",
    "(8.544772221,0.252450042,11.86822671),\n",
    "(5.801274935,6.638813714,11.99765092)\n",
    "])\n",
    "\n",
    "mol.translate([4.2,2,9.2])\n",
    "\n",
    "Ni=open('./relax/Pt/CONTCAR', 'r')\n",
    "lines=Ni.readlines()\n",
    "q=lines[2].strip()\n",
    "bits=list(filter(None, q.split(' ')))\n",
    "q=float(bits[0])\n",
    "\n",
    "slab =fcc111('Pt', size =(3, 3, 4), a=q,  vacuum=9)\n",
    "slab+=mol\n",
    "constraint = FixAtoms(mask=slab.positions[:,2] < 12.0)\n",
    "slab.set_constraint(constraint)\n",
    "slab.write('POSCAR_37',vasp5=True)  #names need to be changed accordingly\n",
    "#"
   ]
  },
  {
   "cell_type": "markdown",
   "metadata": {},
   "source": [
    "H2O/Pt111"
   ]
  },
  {
   "cell_type": "code",
   "execution_count": 39,
   "metadata": {},
   "outputs": [],
   "source": [
    "from ase.build import fcc111\n",
    "from ase.io import write,read\n",
    "from ase.build import surface\n",
    "from ase.visualize import view\n",
    "from ase.constraints import FixAtoms\n",
    "from ase.build import add_adsorbate\n",
    "from ase.build import molecule, rotate\n",
    "from ase import Atoms\n",
    "\n",
    "mol=molecule('H2O')\n",
    "\n",
    "mol.rotate(180,'x')\n",
    "mol.rotate(60,'y')\n",
    "\n",
    "mol.translate([0.4,0,18.0])\n",
    "Ni=open('./relax/Pt/CONTCAR', 'r')\n",
    "lines=Ni.readlines()\n",
    "q=lines[2].strip()\n",
    "bits=list(filter(None, q.split(' ')))\n",
    "q=float(bits[0])\n",
    "\n",
    "slab =fcc111('Pt', size =(2, 2, 4), a=q,  vacuum=9)\n",
    "slab+=mol\n",
    "\n",
    "constraint = FixAtoms(mask=slab.positions[:,2] < 12.0)\n",
    "slab.set_constraint(constraint)\n",
    "slab.write('POSCAR_38',vasp5=True)  #names need to be changed accordingly\n",
    "#"
   ]
  },
  {
   "cell_type": "markdown",
   "metadata": {},
   "source": [
    "H2O_OH/Pt111"
   ]
  },
  {
   "cell_type": "code",
   "execution_count": 40,
   "metadata": {},
   "outputs": [],
   "source": [
    "from ase import Atoms\n",
    "from ase.visualize import view\n",
    "from ase.build import surface\n",
    "\n",
    "mol = Atoms('O6H9', [ (2.707804578,-0.008356654,9.133804388),\n",
    "(1.311152994,2.240426816,9.07083151),\n",
    "(2.894236213,4.981069677,9.133329194),\n",
    "(5.537858551,5.068043384,9.070572876),\n",
    "(7.124201242,2.331401892,9.133198834),\n",
    "(5.880624765,-0.004743933,9.071922484),\n",
    "(2.140412181,0.827267703,9.265607526),\n",
    "(2.140212151,-0.843851914,9.265965162),\n",
    "(1.776040595,3.041605137,9.389132176),\n",
    "(3.902334262,5.052874444,9.264269089),\n",
    "(2.456951722,5.891227944,9.266472717),\n",
    "(6.001427609,4.265710753,9.387652466),\n",
    "(6.685273776,1.421544895,9.265414915),\n",
    "(8.131835482,2.258034708,9.265202861),\n",
    "(4.955141175,-0.005013604,9.39295958)\n",
    "])\n",
    "\n",
    "mol.translate([1.35,2.35,9.2])\n",
    "\n",
    "Ni=open('./relax/Pt/CONTCAR', 'r')\n",
    "lines=Ni.readlines()\n",
    "q=lines[2].strip()\n",
    "bits=list(filter(None, q.split(' ')))\n",
    "q=float(bits[0])\n",
    "\n",
    "slab =fcc111('Pt', size =(3, 3, 4), a=q,  vacuum=9)\n",
    "slab+=mol\n",
    "constraint = FixAtoms(mask=slab.positions[:,2] < 12.0)\n",
    "slab.set_constraint(constraint)\n",
    "slab.write('POSCAR_39',vasp5=True)  #names need to be changed accordingly\n",
    "view(slab)"
   ]
  },
  {
   "cell_type": "code",
   "execution_count": null,
   "metadata": {},
   "outputs": [],
   "source": []
  }
 ],
 "metadata": {
  "kernelspec": {
   "display_name": "Python 3",
   "language": "python",
   "name": "python3"
  },
  "language_info": {
   "codemirror_mode": {
    "name": "ipython",
    "version": 3
   },
   "file_extension": ".py",
   "mimetype": "text/x-python",
   "name": "python",
   "nbconvert_exporter": "python",
   "pygments_lexer": "ipython3",
   "version": "3.7.9"
  }
 },
 "nbformat": 4,
 "nbformat_minor": 2
}
