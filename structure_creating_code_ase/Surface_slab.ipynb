{
 "cells": [
  {
   "cell_type": "markdown",
   "metadata": {},
   "source": [
    "Ni111_1_4"
   ]
  },
  {
   "cell_type": "code",
   "execution_count": 1,
   "metadata": {},
   "outputs": [],
   "source": [
    "from ase.build import fcc111\n",
    "from ase.io import write,read\n",
    "from ase.build import surface\n",
    "from ase.visualize import view\n",
    "from ase.constraints import FixAtoms\n",
    "\n",
    "\n",
    "Ni=open('./relax/Ni/CONTCAR', 'r')\n",
    "lines=Ni.readlines()\n",
    "q=lines[2].strip()\n",
    "bits=list(filter(None, q.split(' ')))\n",
    "q=float(bits[0])\n",
    "\n",
    "slab =fcc111('Ni', size =(2, 2, 4), a=q,  vacuum=9)\n",
    "\n",
    "\n",
    "constraint = FixAtoms(mask=slab.positions[:,2] < 12.0)\n",
    "slab.set_constraint(constraint)\n",
    "slab.write('POSCAR_40',vasp5=True)  #names need to be changed accordingly\n",
    "#"
   ]
  },
  {
   "cell_type": "markdown",
   "metadata": {},
   "source": [
    "Pt111_1_4"
   ]
  },
  {
   "cell_type": "code",
   "execution_count": 2,
   "metadata": {},
   "outputs": [],
   "source": [
    "from ase.build import fcc111\n",
    "from ase.io import write,read\n",
    "from ase.build import surface\n",
    "from ase.visualize import view\n",
    "from ase.constraints import FixAtoms\n",
    "\n",
    "\n",
    "Ni=open('./relax/Pt/CONTCAR', 'r')\n",
    "lines=Ni.readlines()\n",
    "q=lines[2].strip()\n",
    "bits=list(filter(None, q.split(' ')))\n",
    "q=float(bits[0])\n",
    "\n",
    "slab =fcc111('Pt', size =(2, 2, 4), a=q,  vacuum=9)\n",
    "\n",
    "\n",
    "constraint = FixAtoms(mask=slab.positions[:,2] < 12.0)\n",
    "slab.set_constraint(constraint)\n",
    "slab.write('POSCAR_41',vasp5=True)  #names need to be changed accordingly\n",
    "#"
   ]
  },
  {
   "cell_type": "markdown",
   "metadata": {},
   "source": [
    "Pd111_1_4"
   ]
  },
  {
   "cell_type": "code",
   "execution_count": 3,
   "metadata": {},
   "outputs": [],
   "source": [
    "from ase.build import fcc111\n",
    "from ase.io import write,read\n",
    "from ase.build import surface\n",
    "from ase.visualize import view\n",
    "from ase.constraints import FixAtoms\n",
    "\n",
    "\n",
    "\n",
    "\n",
    "Ni=open('./relax/Pd/CONTCAR', 'r')\n",
    "lines=Ni.readlines()\n",
    "q=lines[2].strip()\n",
    "bits=list(filter(None, q.split(' ')))\n",
    "q=float(bits[0])\n",
    "\n",
    "slab =fcc111('Pd', size =(2, 2, 4), a=q,  vacuum=9)\n",
    "\n",
    "\n",
    "constraint = FixAtoms(mask=slab.positions[:,2] < 12.0)\n",
    "slab.set_constraint(constraint)\n",
    "slab.write('POSCAR_42',vasp5=True)  #names need to be changed accordingly\n",
    "#"
   ]
  },
  {
   "cell_type": "markdown",
   "metadata": {},
   "source": [
    "Pd100_1_4"
   ]
  },
  {
   "cell_type": "code",
   "execution_count": 4,
   "metadata": {},
   "outputs": [],
   "source": [
    "from ase.build import fcc100\n",
    "from ase.io import write,read\n",
    "from ase.build import surface\n",
    "from ase.visualize import view\n",
    "from ase.constraints import FixAtoms\n",
    "\n",
    "Ni=open('./relax/Pd/CONTCAR', 'r')\n",
    "lines=Ni.readlines()\n",
    "q=lines[2].strip()\n",
    "bits=list(filter(None, q.split(' ')))\n",
    "q=float(bits[0])\n",
    "\n",
    "slab =fcc100('Pd', size =(2, 2, 4), a=q,  vacuum=9)\n",
    "\n",
    "\n",
    "constraint = FixAtoms(mask=slab.positions[:,2] < 12.0)\n",
    "slab.set_constraint(constraint)\n",
    "slab.write('POSCAR_43',vasp5=True)  #names need to be changed accordingly\n",
    "#"
   ]
  },
  {
   "cell_type": "markdown",
   "metadata": {},
   "source": [
    "Rh111_1_4"
   ]
  },
  {
   "cell_type": "code",
   "execution_count": 5,
   "metadata": {},
   "outputs": [],
   "source": [
    "from ase.build import fcc111\n",
    "from ase.io import write,read\n",
    "from ase.build import surface\n",
    "from ase.visualize import view\n",
    "from ase.constraints import FixAtoms\n",
    "\n",
    "\n",
    "Ni=open('./relax/Rh/CONTCAR', 'r')\n",
    "lines=Ni.readlines()\n",
    "q=lines[2].strip()\n",
    "bits=list(filter(None, q.split(' ')))\n",
    "q=float(bits[0])\n",
    "\n",
    "slab =fcc111('Rh', size =(2, 2, 4), a=q,  vacuum=9)\n",
    "\n",
    "\n",
    "constraint = FixAtoms(mask=slab.positions[:,2] < 12.0)\n",
    "slab.set_constraint(constraint)\n",
    "slab.write('POSCAR_44',vasp5=True)  #names need to be changed accordingly\n",
    "#"
   ]
  },
  {
   "cell_type": "markdown",
   "metadata": {},
   "source": [
    "Ir111_1_4"
   ]
  },
  {
   "cell_type": "code",
   "execution_count": 6,
   "metadata": {},
   "outputs": [],
   "source": [
    "from ase.build import fcc111\n",
    "from ase.io import write,read\n",
    "from ase.build import surface\n",
    "from ase.visualize import view\n",
    "from ase.constraints import FixAtoms\n",
    "\n",
    "Ni=open('./relax/Ir/CONTCAR', 'r')\n",
    "lines=Ni.readlines()\n",
    "q=lines[2].strip()\n",
    "bits=list(filter(None, q.split(' ')))\n",
    "q=float(bits[0])\n",
    "\n",
    "slab =fcc111('Ir', size =(2, 2, 4), a=q,  vacuum=9)\n",
    "\n",
    "\n",
    "constraint = FixAtoms(mask=slab.positions[:,2] < 12.0)\n",
    "slab.set_constraint(constraint)\n",
    "slab.write('POSCAR_45',vasp5=True)  #names need to be changed accordingly\n",
    "#"
   ]
  },
  {
   "cell_type": "markdown",
   "metadata": {},
   "source": [
    "Cu111_1_4"
   ]
  },
  {
   "cell_type": "code",
   "execution_count": 7,
   "metadata": {},
   "outputs": [],
   "source": [
    "from ase.build import fcc111\n",
    "from ase.io import write,read\n",
    "from ase.build import surface\n",
    "from ase.visualize import view\n",
    "from ase.constraints import FixAtoms\n",
    "\n",
    "Ni=open('./relax/Cu/CONTCAR', 'r')\n",
    "lines=Ni.readlines()\n",
    "q=lines[2].strip()\n",
    "bits=list(filter(None, q.split(' ')))\n",
    "q=float(bits[0])\n",
    "\n",
    "slab =fcc111('Cu', size =(2, 2, 4), a=q,  vacuum=9)\n",
    "\n",
    "\n",
    "constraint = FixAtoms(mask=slab.positions[:,2] < 12.0)\n",
    "slab.set_constraint(constraint)\n",
    "slab.write('POSCAR_46',vasp5=True)  #names need to be changed accordingly\n",
    "#"
   ]
  },
  {
   "cell_type": "markdown",
   "metadata": {},
   "source": [
    "Ru0001_1_4"
   ]
  },
  {
   "cell_type": "code",
   "execution_count": 8,
   "metadata": {},
   "outputs": [],
   "source": [
    "from ase.build import hcp0001\n",
    "from ase.io import write,read\n",
    "from ase.build import surface\n",
    "from ase.visualize import view\n",
    "from ase.constraints import FixAtoms\n",
    "\n",
    "\n",
    "Ni=open('./relax/Ru/CONTCAR', 'r')\n",
    "lines=Ni.readlines()\n",
    "q=lines[2].strip()\n",
    "bits_1=list(filter(None, q.split(' ')))\n",
    "q_1=float(bits_1[0])\n",
    "\n",
    "r=lines[4].strip()\n",
    "bits_2=list(filter(None, r.split(' ')))\n",
    "r_1=float(bits_2[2])\n",
    "\n",
    "slab =hcp0001('Ru', size =(2, 2, 4), a=q_1, c=r_1,  vacuum=9)\n",
    "\n",
    "\n",
    "constraint = FixAtoms(mask=slab.positions[:,2] < 12.0)\n",
    "slab.set_constraint(constraint)\n",
    "slab.write('POSCAR_47',vasp5=True)  #names need to be changed accordingly\n",
    "#"
   ]
  },
  {
   "cell_type": "markdown",
   "metadata": {},
   "source": [
    "Co0001_1_4"
   ]
  },
  {
   "cell_type": "code",
   "execution_count": 9,
   "metadata": {},
   "outputs": [],
   "source": [
    "from ase.build import hcp0001\n",
    "from ase.io import write,read\n",
    "from ase.build import surface\n",
    "from ase.visualize import view\n",
    "from ase.constraints import FixAtoms\n",
    "\n",
    "\n",
    "Ni=open('./relax/Co/CONTCAR', 'r')\n",
    "lines=Ni.readlines()\n",
    "q=lines[2].strip()\n",
    "bits_1=list(filter(None, q.split(' ')))\n",
    "q_1=float(bits_1[0])\n",
    "\n",
    "r=lines[4].strip()\n",
    "bits_2=list(filter(None, r.split(' ')))\n",
    "r_1=float(bits_2[2])\n",
    "\n",
    "slab =hcp0001('Co', size =(2, 2, 4), a=q_1, c=r_1,  vacuum=9)\n",
    "\n",
    "\n",
    "constraint = FixAtoms(mask=slab.positions[:,2] < 12.0)\n",
    "slab.set_constraint(constraint)\n",
    "slab.write('POSCAR_48',vasp5=True)  #names need to be changed accordingly\n",
    "#"
   ]
  },
  {
   "cell_type": "markdown",
   "metadata": {},
   "source": [
    "Ni100_1_4"
   ]
  },
  {
   "cell_type": "code",
   "execution_count": 10,
   "metadata": {},
   "outputs": [],
   "source": [
    "from ase.build import fcc100\n",
    "from ase.io import write,read\n",
    "from ase.build import surface\n",
    "from ase.visualize import view\n",
    "from ase.constraints import FixAtoms\n",
    "\n",
    "Ni=open('./relax/Ni/CONTCAR', 'r')\n",
    "lines=Ni.readlines()\n",
    "q=lines[2].strip()\n",
    "bits=list(filter(None, q.split(' ')))\n",
    "q=float(bits[0])\n",
    "\n",
    "slab =fcc100('Ni', size =(2, 2, 4), a=q,  vacuum=9)\n",
    "\n",
    "\n",
    "constraint = FixAtoms(mask=slab.positions[:,2] < 12.0)\n",
    "slab.set_constraint(constraint)\n",
    "slab.write('POSCAR_49',vasp5=True)  #names need to be changed accordingly\n",
    "#"
   ]
  },
  {
   "cell_type": "markdown",
   "metadata": {},
   "source": [
    "Rh100_1_4"
   ]
  },
  {
   "cell_type": "code",
   "execution_count": 11,
   "metadata": {},
   "outputs": [],
   "source": [
    "from ase.build import fcc100\n",
    "from ase.io import write,read\n",
    "from ase.build import surface\n",
    "from ase.visualize import view\n",
    "from ase.constraints import FixAtoms\n",
    "\n",
    "\n",
    "Ni=open('./relax/Rh/CONTCAR', 'r')\n",
    "lines=Ni.readlines()\n",
    "q=lines[2].strip()\n",
    "bits=list(filter(None, q.split(' ')))\n",
    "q=float(bits[0])\n",
    "\n",
    "slab =fcc100('Rh', size =(2, 2, 4), a=q,  vacuum=9)\n",
    "\n",
    "\n",
    "constraint = FixAtoms(mask=slab.positions[:,2] < 12.0)\n",
    "slab.set_constraint(constraint)\n",
    "slab.write('POSCAR_50',vasp5=True)  #names need to be changed accordingly\n",
    "#"
   ]
  },
  {
   "cell_type": "markdown",
   "metadata": {},
   "source": [
    "Cu100_1_4"
   ]
  },
  {
   "cell_type": "code",
   "execution_count": 12,
   "metadata": {},
   "outputs": [],
   "source": [
    "from ase.build import fcc100\n",
    "from ase.io import write,read\n",
    "from ase.build import surface\n",
    "from ase.visualize import view\n",
    "from ase.constraints import FixAtoms\n",
    "\n",
    "Ni=open('./relax/Cu/CONTCAR', 'r')\n",
    "lines=Ni.readlines()\n",
    "q=lines[2].strip()\n",
    "bits=list(filter(None, q.split(' ')))\n",
    "q=float(bits[0])\n",
    "\n",
    "slab =fcc100('Cu', size =(2, 2, 4), a=q,  vacuum=9)\n",
    "\n",
    "\n",
    "constraint = FixAtoms(mask=slab.positions[:,2] < 12.0)\n",
    "slab.set_constraint(constraint)\n",
    "slab.write('POSCAR_51',vasp5=True)  #names need to be changed accordingly\n",
    "#"
   ]
  },
  {
   "cell_type": "markdown",
   "metadata": {},
   "source": [
    "Pt111_1_9"
   ]
  },
  {
   "cell_type": "code",
   "execution_count": 13,
   "metadata": {},
   "outputs": [],
   "source": [
    "from ase.build import fcc111\n",
    "from ase.io import write,read\n",
    "from ase.build import surface\n",
    "from ase.visualize import view\n",
    "from ase.constraints import FixAtoms\n",
    "\n",
    "\n",
    "Ni=open('./relax/Pt/CONTCAR', 'r')\n",
    "lines=Ni.readlines()\n",
    "q=lines[2].strip()\n",
    "bits=list(filter(None, q.split(' ')))\n",
    "q=float(bits[0])\n",
    "\n",
    "slab =fcc111('Pt', size =(3, 3, 4), a=q,  vacuum=9)\n",
    "\n",
    "\n",
    "constraint = FixAtoms(mask=slab.positions[:,2] < 12.0)\n",
    "slab.set_constraint(constraint)\n",
    "slab.write('POSCAR_52',vasp5=True)  #names need to be changed accordingly\n",
    "#"
   ]
  },
  {
   "cell_type": "markdown",
   "metadata": {},
   "source": [
    "Cu111_1_9"
   ]
  },
  {
   "cell_type": "code",
   "execution_count": 14,
   "metadata": {},
   "outputs": [],
   "source": [
    "from ase.build import fcc111\n",
    "from ase.io import write,read\n",
    "from ase.build import surface\n",
    "from ase.visualize import view\n",
    "from ase.constraints import FixAtoms\n",
    "\n",
    "Ni=open('./relax/Cu/CONTCAR', 'r')\n",
    "lines=Ni.readlines()\n",
    "q=lines[2].strip()\n",
    "bits=list(filter(None, q.split(' ')))\n",
    "q=float(bits[0])\n",
    "\n",
    "slab =fcc111('Cu', size =(3, 3, 4), a=q,  vacuum=9)\n",
    "\n",
    "\n",
    "constraint = FixAtoms(mask=slab.positions[:,2] < 12.0)\n",
    "slab.set_constraint(constraint)\n",
    "slab.write('POSCAR_53',vasp5=True)  #names need to be changed accordingly\n",
    "#"
   ]
  },
  {
   "cell_type": "markdown",
   "metadata": {},
   "source": [
    "Ag111_1_9"
   ]
  },
  {
   "cell_type": "code",
   "execution_count": 15,
   "metadata": {},
   "outputs": [],
   "source": [
    "from ase.build import fcc111\n",
    "from ase.io import write,read\n",
    "from ase.build import surface\n",
    "from ase.visualize import view\n",
    "from ase.constraints import FixAtoms\n",
    "\n",
    "Ni=open('./relax/Ag/CONTCAR', 'r')\n",
    "lines=Ni.readlines()\n",
    "q=lines[2].strip()\n",
    "bits=list(filter(None, q.split(' ')))\n",
    "q=float(bits[0])\n",
    "\n",
    "slab =fcc111('Ag', size =(3, 3, 4), a=q,  vacuum=9)\n",
    "\n",
    "\n",
    "constraint = FixAtoms(mask=slab.positions[:,2] < 12.0)\n",
    "slab.set_constraint(constraint)\n",
    "slab.write('POSCAR_54',vasp5=True)  #names need to be changed accordingly\n",
    "#"
   ]
  },
  {
   "cell_type": "markdown",
   "metadata": {},
   "source": [
    "Au111_1_9"
   ]
  },
  {
   "cell_type": "code",
   "execution_count": 16,
   "metadata": {},
   "outputs": [],
   "source": [
    "from ase.build import fcc111\n",
    "from ase.io import write,read\n",
    "from ase.build import surface\n",
    "from ase.visualize import view\n",
    "from ase.constraints import FixAtoms\n",
    "\n",
    "Ni=open('./relax/Au/CONTCAR', 'r')\n",
    "lines=Ni.readlines()\n",
    "q=lines[2].strip()\n",
    "bits=list(filter(None, q.split(' ')))\n",
    "q=float(bits[0])\n",
    "\n",
    "slab =fcc111('Au', size =(3, 3, 4), a=q,  vacuum=9)\n",
    "\n",
    "\n",
    "constraint = FixAtoms(mask=slab.positions[:,2] < 12.0)\n",
    "slab.set_constraint(constraint)\n",
    "slab.write('POSCAR_55',vasp5=True)  #names need to be changed accordingly\n",
    "#"
   ]
  },
  {
   "cell_type": "markdown",
   "metadata": {},
   "source": [
    "O/Pt111_1_4"
   ]
  },
  {
   "cell_type": "code",
   "execution_count": 17,
   "metadata": {},
   "outputs": [],
   "source": [
    "from ase.build import fcc111\n",
    "from ase.io import write,read\n",
    "from ase.build import surface\n",
    "from ase.visualize import view\n",
    "from ase.constraints import FixAtoms\n",
    "from ase.build import add_adsorbate\n",
    "from ase.build import molecule, rotate\n",
    "\n",
    "mol=molecule('O')\n",
    "\n",
    "Ni=open('./relax/Pt/CONTCAR', 'r')\n",
    "lines=Ni.readlines()\n",
    "q=lines[2].strip()\n",
    "bits=list(filter(None, q.split(' ')))\n",
    "q=float(bits[0])\n",
    "\n",
    "slab =fcc111('Pt', size =(2, 2, 4), a=q,  vacuum=9)\n",
    "add_adsorbate(slab, mol, 2.0, 'fcc')\n",
    "\n",
    "constraint = FixAtoms(mask=slab.positions[:,2] < 12.0)\n",
    "slab.set_constraint(constraint)\n",
    "slab.write('POSCAR_56',vasp5=True)  #names need to be changed accordingly\n"
   ]
  },
  {
   "cell_type": "markdown",
   "metadata": {},
   "source": [
    "Pt111_1_1"
   ]
  },
  {
   "cell_type": "code",
   "execution_count": 18,
   "metadata": {},
   "outputs": [],
   "source": [
    "from ase.build import fcc111\n",
    "from ase.io import write,read\n",
    "from ase.build import surface\n",
    "from ase.visualize import view\n",
    "from ase.constraints import FixAtoms\n",
    "\n",
    "\n",
    "Ni=open('./relax/Pt/CONTCAR', 'r')\n",
    "lines=Ni.readlines()\n",
    "q=lines[2].strip()\n",
    "bits=list(filter(None, q.split(' ')))\n",
    "q=float(bits[0])\n",
    "\n",
    "slab =fcc111('Pt', size =(1, 1, 4), a=q,  vacuum=9)\n",
    "\n",
    "\n",
    "constraint = FixAtoms(mask=slab.positions[:,2] < 12.0)\n",
    "slab.set_constraint(constraint)\n",
    "slab.write('POSCAR_57',vasp5=True)  #names need to be changed accordingly"
   ]
  }
 ],
 "metadata": {
  "kernelspec": {
   "display_name": "Python 3 (ipykernel)",
   "language": "python",
   "name": "python3"
  },
  "language_info": {
   "codemirror_mode": {
    "name": "ipython",
    "version": 3
   },
   "file_extension": ".py",
   "mimetype": "text/x-python",
   "name": "python",
   "nbconvert_exporter": "python",
   "pygments_lexer": "ipython3",
   "version": "3.9.18"
  }
 },
 "nbformat": 4,
 "nbformat_minor": 4
}
