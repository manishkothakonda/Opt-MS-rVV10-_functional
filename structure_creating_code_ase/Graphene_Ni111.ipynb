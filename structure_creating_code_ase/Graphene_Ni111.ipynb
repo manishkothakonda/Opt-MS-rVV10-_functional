{
 "cells": [
  {
   "cell_type": "code",
   "execution_count": 4,
   "metadata": {},
   "outputs": [],
   "source": [
    "from ase.build import fcc111\n",
    "from ase.io import write,read\n",
    "from ase.build import surface\n",
    "from ase.visualize import view\n",
    "from ase.constraints import FixAtoms\n",
    "from ase.build import add_adsorbate\n",
    "from ase.build import molecule, rotate\n",
    "from ase import Atoms\n",
    "import numpy as np\n",
    "\n",
    "# mol=molecule('C')\n",
    "\n",
    "\n",
    "\n",
    "q= np.arange(1.9, 4.1, 0.1)\n",
    "\n",
    "for i in q:\n",
    "    slab_1 =fcc111('Ni', size =(1, 1, 6), a=3.4547318056120115,  vacuum=12)\n",
    "    # print(i)\n",
    "    \n",
    "    c=21.9729516897344723+i\n",
    "    # print(c)\n",
    "    a = Atoms('CC', [(0.000000000 ,0.000000000 ,c), ( 0.0000000000000000 , 1.4549226783659401 ,c)\n",
    "])\n",
    "    slab_1+=a\n",
    "    slab_1.write('POSCAR_{0:.2f}'.format(i), vasp5=True)"
   ]
  }
 ],
 "metadata": {
  "kernelspec": {
   "display_name": "Python 3 (ipykernel)",
   "language": "python",
   "name": "python3"
  },
  "language_info": {
   "codemirror_mode": {
    "name": "ipython",
    "version": 3
   },
   "file_extension": ".py",
   "mimetype": "text/x-python",
   "name": "python",
   "nbconvert_exporter": "python",
   "pygments_lexer": "ipython3",
   "version": "3.9.18"
  }
 },
 "nbformat": 4,
 "nbformat_minor": 4
}
